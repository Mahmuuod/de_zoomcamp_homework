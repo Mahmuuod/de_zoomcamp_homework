{
 "cells": [
  {
   "cell_type": "code",
   "execution_count": 2,
   "id": "30afd02f-94e6-42bd-92ca-386c82daa9fc",
   "metadata": {},
   "outputs": [],
   "source": [
    "import pandas as pd"
   ]
  },
  {
   "cell_type": "code",
   "execution_count": null,
   "id": "0d691090-1fb7-4ef5-87fa-89d3582b3141",
   "metadata": {},
   "outputs": [],
   "source": [
    "df=read"
   ]
  }
 ],
 "metadata": {
  "kernelspec": {
   "display_name": "Python 3 (ipykernel)",
   "language": "python",
   "name": "python3"
  },
  "language_info": {
   "codemirror_mode": {
    "name": "ipython",
    "version": 3
   },
   "file_extension": ".py",
   "mimetype": "text/x-python",
   "name": "python",
   "nbconvert_exporter": "python",
   "pygments_lexer": "ipython3",
   "version": "3.10.13"
  }
 },
 "nbformat": 4,
 "nbformat_minor": 5
}
